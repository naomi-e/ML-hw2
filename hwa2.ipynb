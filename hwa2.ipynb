{
 "cells": [
  {
   "cell_type": "markdown",
   "metadata": {},
   "source": [
    "# Exercise 2: Decision Trees\n",
    "\n",
    "In this assignment you will implement a Decision Tree algorithm as learned in class.\n",
    "\n",
    "## Read the following instructions carefully:\n",
    "\n",
    "1. This jupyter notebook contains all the step by step instructions needed for this exercise.\n",
    "2. Write vectorized code whenever possible.\n",
    "3. You are responsible for the correctness of your code and should add as many tests as you see fit. Tests will not be graded nor checked.\n",
    "4. Write your functions in the provided `hw2.py` python module only. All the logic you write is imported and used in this jupyter notebook.\n",
    "5. You are allowed to use functions and methods from the [Python Standard Library](https://docs.python.org/3/library/) and [numpy](https://www.numpy.org/devdocs/reference/) only. Any other imports detected in `hw2.py` will earn you the grade of 0, even if you only used them for testing.\n",
    "6. Your code must run without errors. During the environment setup, you were given a specific version of `numpy` to install. Changes of the configuration we provided are at your own risk. Code that cannot run will also earn you the grade of 0.\n",
    "7. Write your own code. Cheating will not be tolerated. \n",
    "8. Submission includes the `hw2.py` file and this notebook. Answers to qualitative questions should be written in markdown cells (with $\\LaTeX$ support).\n",
    "9. You are allowed to include additional functions.\n",
    "10. Submission: zip only the completed jupyter notebook and the python file `hw2.py`. Do not include the data or any directories. Name the file `ID1_ID2.zip` and submit only one copy of the assignment.\n",
    "\n",
    "## In this exercise you will perform the following:\n",
    "1. Practice OOP in python.\n",
    "2. Implement two impurity measures: Gini and Entropy.\n",
    "3. Implement a decision tree from scratch.\n",
    "4. Prune the tree to achieve better results.\n",
    "5. Visualize your results and the tree."
   ]
  },
  {
   "cell_type": "code",
   "execution_count": 36,
   "metadata": {
    "deletable": false,
    "editable": false,
    "nbgrader": {
     "checksum": "63bcec20cb406a2169b49168f173c760",
     "grade": false,
     "grade_id": "cell-ed9fe7b1026e33cb",
     "locked": true,
     "schema_version": 1,
     "solution": false
    }
   },
   "outputs": [
    {
     "name": "stdout",
     "output_type": "stream",
     "text": [
      "The autoreload extension is already loaded. To reload it, use:\n",
      "  %reload_ext autoreload\n"
     ]
    }
   ],
   "source": [
    "import numpy as np\n",
    "import pandas as pd\n",
    "import matplotlib.pyplot as plt\n",
    "from hw2 import * # this imports all functions from hw2.\n",
    "\n",
    "# make matplotlib figures appear inline in the notebook\n",
    "%matplotlib inline\n",
    "plt.rcParams['figure.figsize'] = (10.0, 8.0) # set default size of plots\n",
    "plt.rcParams['image.interpolation'] = 'nearest'\n",
    "plt.rcParams['image.cmap'] = 'gray'\n",
    "\n",
    "# Make the notebook automatically reload external python modules\n",
    "%load_ext autoreload\n",
    "%autoreload 2"
   ]
  },
  {
   "cell_type": "markdown",
   "metadata": {},
   "source": [
    "## Warmup - OOP in python\n",
    "\n",
    "Our decision tree will be implemented using a dedicated python class. Python classes are very similar to classes in Java.\n",
    "\n",
    "\n",
    "You can use the following [site](https://jeffknupp.com/blog/2014/06/18/improve-your-python-python-classes-and-object-oriented-programming/) to learn about classes in python."
   ]
  },
  {
   "cell_type": "code",
   "execution_count": 37,
   "metadata": {},
   "outputs": [],
   "source": [
    "class Node(object):\n",
    "    def __init__(self, data):\n",
    "        self.data = data\n",
    "        self.children = []\n",
    "\n",
    "    def add_child(self, node):\n",
    "        self.children.append(node)"
   ]
  },
  {
   "cell_type": "code",
   "execution_count": 38,
   "metadata": {},
   "outputs": [
    {
     "name": "stdout",
     "output_type": "stream",
     "text": [
      "2\n",
      "6\n"
     ]
    }
   ],
   "source": [
    "n = Node(5)\n",
    "p = Node(6)\n",
    "q = Node(7)\n",
    "n.add_child(p)\n",
    "n.add_child(q)\n",
    "n.children\n",
    "\n",
    "print(len(n.children))\n",
    "print(n.children[0].data)"
   ]
  },
  {
   "cell_type": "markdown",
   "metadata": {},
   "source": [
    "## Data preprocessing\n",
    "\n",
    "We will use the breast cancer dataset that is available as a part of sklearn - a popular machine learning and data science library in python. In this example, our dataset will be a single matrix with the **labels on the last column**. Notice that you are not allowed to use additional functions from sklearn."
   ]
  },
  {
   "cell_type": "code",
   "execution_count": 39,
   "metadata": {
    "deletable": false,
    "editable": false,
    "nbgrader": {
     "checksum": "0e2620b671ce98b8a856d59ce9f95f71",
     "grade": false,
     "grade_id": "cell-d79cb4542926ad3f",
     "locked": true,
     "schema_version": 1,
     "solution": false
    }
   },
   "outputs": [
    {
     "name": "stdout",
     "output_type": "stream",
     "text": [
      "Training dataset shape:  (426, 31)\n",
      "Testing dataset shape:  (143, 31)\n"
     ]
    }
   ],
   "source": [
    "from sklearn import datasets\n",
    "from sklearn.model_selection import train_test_split\n",
    "\n",
    "# load dataset\n",
    "X, y = datasets.load_breast_cancer(return_X_y = True)\n",
    "X = np.column_stack([X,y]) # the last column holds the labels\n",
    "\n",
    "# split dataset\n",
    "X_train, X_test = train_test_split(X, random_state=99)\n",
    "\n",
    "print(\"Training dataset shape: \", X_train.shape)\n",
    "print(\"Testing dataset shape: \", X_test.shape)"
   ]
  },
  {
   "cell_type": "code",
   "execution_count": 40,
   "metadata": {},
   "outputs": [
    {
     "name": "stdout",
     "output_type": "stream",
     "text": [
      "Training dataset shape:  31\n"
     ]
    }
   ],
   "source": [
    "print(\"Training dataset shape: \", X_train.shape[1])\n"
   ]
  },
  {
   "cell_type": "code",
   "execution_count": 41,
   "metadata": {},
   "outputs": [
    {
     "name": "stdout",
     "output_type": "stream",
     "text": [
      "[array([[1, 2, 3]]), array([], shape=(0, 3), dtype=int64), array([], shape=(0, 3), dtype=int64), array([[1, 2, 3],\n",
      "       [4, 5, 6],\n",
      "       [7, 8, 9]])]\n"
     ]
    }
   ],
   "source": [
    "data = np.array([\n",
    "    [1, 2, 3],\n",
    "    [4, 5, 6],\n",
    "    [7, 8, 9]\n",
    "])\n",
    "\n",
    "thing = np.split(data, data[:,0].astype(int)<=6)\n",
    "\n",
    "print(thing)\n"
   ]
  },
  {
   "cell_type": "markdown",
   "metadata": {},
   "source": [
    "## Impurity Measures\n",
    "\n",
    "Implement the functions `calc_gini` (5 points) and `calc_entropy` (5 points) in the python file `hw2.py`. You are encouraged to test your implementation using the cell below."
   ]
  },
  {
   "cell_type": "code",
   "execution_count": 42,
   "metadata": {},
   "outputs": [
    {
     "data": {
      "text/plain": [
       "2.584962500721156"
      ]
     },
     "execution_count": 42,
     "metadata": {},
     "output_type": "execute_result"
    }
   ],
   "source": [
    "##### Your code here #####\n",
    "data = np.array([(1,1), (2,2), (3,3), (4,4), (5,5), (6,6)])\n",
    "calc_entropy(data)"
   ]
  },
  {
   "cell_type": "code",
   "execution_count": 46,
   "metadata": {},
   "outputs": [
    {
     "name": "stdout",
     "output_type": "stream",
     "text": [
      "[[1 2 3 1]\n",
      " [2 3 4 2]]\n",
      "[1 2]\n"
     ]
    }
   ],
   "source": [
    "import numpy as np\n",
    "\n",
    "t = np.array([[1,2,3,1],\n",
    "             [2,3,4,2],\n",
    "             [5,6,7,1],\n",
    "             [8,9,1,2]])\n",
    "attribute = 1\n",
    "threshold = 6\n",
    "\n",
    "rows = np.where(t[:,attribute].astype(int) < threshold)\n",
    "result = t[rows]\n",
    "\n",
    "print(result)\n",
    "print(np.unique(t[:,-1]))"
   ]
  },
  {
   "cell_type": "markdown",
   "metadata": {},
   "source": [
    "## Building a Decision Tree\n",
    "\n",
    "Use a Python class to construct the decision tree (look at the `DecisionNode` class in the python file `hw2.py`. Your class should support the following functionality:\n",
    "\n",
    "1. Initiating a node for a decision tree. You will need to use several class methods and class attributes and you are free to use them as you see fit. We recommend that every node will hold the feature and value used for the split and its children.\n",
    "2. Your code should support both Gini and Entropy as impurity measures. \n",
    "3. The provided data includes continuous data. In this exercise, create at most a single split for each node of the tree. The threshold you need to use for this exercise are the average of each consecutive pair of values. For example, assume some features contains the following values: [1,2,3,4,5]. You should use the following thresholds [1.5, 2.5, 3.5, 4.5].\n",
    "\n",
    "*Instructor note from moodle: \"When building the tree, you are greedily checking for the best feature and best threshold to split at each node.\"\n",
    "4. When constructing the tree, test all possible thresholds for each feature. The stopping criteria is a pure tree.\n",
    "\n",
    "Complete the class `DecisionNode` in the python file `hw2.py`. The structure of this class is entirely up to you. Complete the function `build_tree` in the python file `hw2.py`. This function should get the training dataset and the impurity as inputs, initiate a root for the decision tree and construct the tree according to the procedure you learned in class. (30 points)."
   ]
  },
  {
   "cell_type": "code",
   "execution_count": 103,
   "metadata": {},
   "outputs": [
    {
     "name": "stdout",
     "output_type": "stream",
     "text": [
      "Got here!\n",
      "best_attribute: 27\n",
      "best_threshold: 0\n",
      "set_children 1\n",
      "set_children 2\n",
      "set_children 3\n",
      "set_children 4\n",
      "set_children 5\n",
      "set_children 6\n",
      "Adding child_left:\n",
      "<hw2.NodeExpansion object at 0x1a19df4048>\n",
      "Adding child_right:\n",
      "<hw2.NodeExpansion object at 0x1a19df4390>\n",
      "Got here!\n",
      "best_attribute: 13\n",
      "best_threshold: 21\n",
      "set_children 1\n",
      "set_children 2\n",
      "set_children 3\n",
      "set_children 4\n",
      "set_children 5\n",
      "set_children 6\n",
      "Adding child_left:\n",
      "<hw2.NodeExpansion object at 0x1a19df4e80>\n",
      "Adding child_right:\n",
      "<hw2.NodeExpansion object at 0x1a19df4668>\n",
      "Got here!\n",
      "best_attribute: 3\n",
      "best_threshold: 696\n",
      "set_children 1\n",
      "set_children 2\n",
      "set_children 3\n",
      "set_children 4\n",
      "set_children 5\n",
      "set_children 6\n",
      "Adding child_left:\n",
      "<hw2.NodeExpansion object at 0x1a19df4a58>\n",
      "Adding child_right:\n",
      "<hw2.NodeExpansion object at 0x1a19df4780>\n",
      "Got here!\n",
      "best_attribute: 4\n",
      "best_threshold: 0\n",
      "set_children 1\n",
      "set_children 2\n",
      "set_children 3\n",
      "set_children 4\n",
      "set_children 5\n",
      "STOP CONDITION REACHED 3\n",
      "left_impurity: 0.0 left_data.shape: (140, 31)\n",
      "[0. 0. 0. 0. 0. 0. 0. 0. 0. 0. 0. 0. 0. 0. 0. 0. 0. 0. 0. 0. 0. 0. 0. 0.\n",
      " 0. 0. 0. 0. 0. 0. 0. 0. 0. 0. 0. 0. 0. 0. 0. 0. 0. 0. 0. 0. 0. 0. 0. 0.\n",
      " 0. 0. 0. 0. 0. 0. 0. 0. 0. 0. 0. 0. 0. 0. 0. 0. 0. 0. 0. 0. 0. 0. 0. 0.\n",
      " 0. 0. 0. 0. 0. 0. 0. 0. 0. 0. 0. 0. 0. 0. 0. 0. 0. 0. 0. 0. 0. 0. 0. 0.\n",
      " 0. 0. 0. 0. 0. 0. 0. 0. 0. 0. 0. 0. 0. 0. 0. 0. 0. 0. 0. 0. 0. 0. 0. 0.\n",
      " 0. 0. 0. 0. 0. 0. 0. 0. 0. 0. 0. 0. 0. 0. 0. 0. 0. 0. 0. 0.]\n",
      "right_impurity: 0.0 right_data.shape: (1, 31)\n",
      "[1.]\n",
      "(141, 31)\n",
      "attribute:  4 threshold:  0.079285\n",
      "set_children 6\n",
      "Adding child_left:\n",
      "<hw2.NodeExpansion object at 0x1a19d536a0>\n",
      "Adding child_right:\n",
      "<hw2.NodeExpansion object at 0x1a19d53e48>\n",
      "Got here!\n",
      "best_attribute: 21\n",
      "best_threshold: 29\n",
      "set_children 1\n",
      "set_children 2\n",
      "set_children 3\n",
      "set_children 4\n",
      "set_children 5\n",
      "STOP CONDITION REACHED 3\n",
      "left_impurity: 0.0 left_data.shape: (5, 31)\n",
      "[0. 0. 0. 0. 0.]\n",
      "right_impurity: 0.19753086419753085 right_data.shape: (9, 31)\n",
      "[1. 1. 1. 1. 1. 0. 1. 1. 1.]\n",
      "(14, 31)\n",
      "attribute:  21 threshold:  29.0\n",
      "set_children 6\n",
      "Adding child_left:\n",
      "<hw2.NodeExpansion object at 0x1a19e28b38>\n",
      "Adding child_right:\n",
      "<hw2.NodeExpansion object at 0x1a19e28da0>\n",
      "Got here!\n",
      "best_attribute: 1\n",
      "best_threshold: 16\n",
      "set_children 1\n",
      "set_children 2\n",
      "set_children 3\n",
      "set_children 4\n",
      "set_children 5\n",
      "STOP CONDITION REACHED 3\n",
      "left_impurity: 0.19753086419753085 left_data.shape: (18, 31)\n",
      "[0. 0. 0. 0. 0. 0. 0. 0. 0. 0. 0. 1. 0. 0. 0. 0. 1. 0.]\n",
      "right_impurity: 0.0 right_data.shape: (5, 31)\n",
      "[1. 1. 1. 1. 1.]\n",
      "(23, 31)\n",
      "attribute:  1 threshold:  16.375\n",
      "set_children 6\n",
      "Adding child_left:\n",
      "<hw2.NodeExpansion object at 0x1a19e28748>\n",
      "Adding child_right:\n",
      "<hw2.NodeExpansion object at 0x1a19e288d0>\n",
      "Got here!\n",
      "best_attribute: 27\n",
      "best_threshold: 0\n",
      "set_children 1\n",
      "set_children 2\n",
      "set_children 3\n",
      "set_children 4\n",
      "set_children 5\n",
      "set_children 6\n",
      "Adding child_left:\n",
      "<hw2.NodeExpansion object at 0x1a19df4160>\n",
      "Adding child_right:\n",
      "<hw2.NodeExpansion object at 0x1a19df43c8>\n",
      "STOP CONDITION REACHED 2\n",
      "(140, 31)\n",
      "STOP CONDITION REACHED 1\n",
      "False\n",
      "STOP CONDITION REACHED 2\n",
      "(5, 31)\n",
      "Got here!\n",
      "best_attribute: 1\n",
      "best_threshold: 20\n",
      "set_children 1\n",
      "set_children 2\n",
      "set_children 3\n",
      "set_children 4\n",
      "set_children 5\n",
      "STOP CONDITION REACHED 3\n",
      "left_impurity: 0.0 left_data.shape: (1, 31)\n",
      "[0.]\n",
      "right_impurity: 0.0 right_data.shape: (8, 31)\n",
      "[1. 1. 1. 1. 1. 1. 1. 1.]\n",
      "(9, 31)\n",
      "attribute:  1 threshold:  20.52\n",
      "set_children 6\n",
      "Adding child_left:\n",
      "<hw2.NodeExpansion object at 0x1a19e28b38>\n",
      "Adding child_right:\n",
      "<hw2.NodeExpansion object at 0x1a19e28780>\n",
      "Got here!\n",
      "best_attribute: 19\n",
      "best_threshold: 0\n",
      "set_children 1\n",
      "set_children 2\n",
      "set_children 3\n",
      "set_children 4\n",
      "set_children 5\n",
      "STOP CONDITION REACHED 3\n",
      "left_impurity: 0.11072664359861584 left_data.shape: (17, 31)\n",
      "[0. 0. 0. 0. 0. 0. 0. 0. 0. 0. 0. 0. 0. 0. 0. 1. 0.]\n",
      "right_impurity: 0.0 right_data.shape: (1, 31)\n",
      "[1.]\n",
      "(18, 31)\n",
      "attribute:  19 threshold:  0.0015485\n",
      "set_children 6\n",
      "Adding child_left:\n",
      "<hw2.NodeExpansion object at 0x1a19e543c8>\n",
      "Adding child_right:\n",
      "<hw2.NodeExpansion object at 0x1a19e54710>\n",
      "STOP CONDITION REACHED 2\n",
      "(5, 31)\n",
      "Got here!\n",
      "best_attribute: 15\n",
      "best_threshold: 0\n",
      "set_children 1\n",
      "set_children 2\n",
      "set_children 3\n",
      "set_children 4\n",
      "set_children 5\n",
      "STOP CONDITION REACHED 3\n",
      "left_impurity: 0.0 left_data.shape: (6, 31)\n",
      "[1. 1. 1. 1. 1. 1.]\n",
      "right_impurity: 0.31999999999999984 right_data.shape: (5, 31)\n",
      "[0. 0. 1. 0. 0.]\n",
      "(11, 31)\n",
      "attribute:  15 threshold:  0.02744\n",
      "set_children 6\n",
      "Adding child_left:\n",
      "<hw2.NodeExpansion object at 0x1a19e54e10>\n",
      "Adding child_right:\n",
      "<hw2.NodeExpansion object at 0x1a19e548d0>\n",
      "Got here!\n",
      "best_attribute: 10\n",
      "best_threshold: 0\n",
      "set_children 1\n",
      "set_children 2\n",
      "set_children 3\n",
      "set_children 4\n",
      "set_children 5\n",
      "set_children 6\n",
      "Adding child_left:\n",
      "<hw2.NodeExpansion object at 0x1a19e28f28>\n",
      "Adding child_right:\n",
      "<hw2.NodeExpansion object at 0x1a19e28a20>\n",
      "STOP CONDITION REACHED 1\n",
      "False\n",
      "STOP CONDITION REACHED 2\n",
      "(8, 31)\n",
      "Got here!\n",
      "best_attribute: 1\n",
      "best_threshold: 18\n",
      "set_children 1\n",
      "set_children 2\n",
      "set_children 3\n",
      "set_children 4\n",
      "set_children 5\n",
      "STOP CONDITION REACHED 3\n",
      "left_impurity: 0.0 left_data.shape: (15, 31)\n",
      "[0. 0. 0. 0. 0. 0. 0. 0. 0. 0. 0. 0. 0. 0. 0.]\n",
      "right_impurity: 0.5 right_data.shape: (2, 31)\n",
      "[0. 1.]\n",
      "(17, 31)\n",
      "attribute:  1 threshold:  18.6\n",
      "set_children 6\n",
      "Adding child_left:\n",
      "<hw2.NodeExpansion object at 0x1a19df4e80>\n",
      "Adding child_right:\n",
      "<hw2.NodeExpansion object at 0x1a19df4048>\n",
      "STOP CONDITION REACHED 1\n",
      "False\n",
      "STOP CONDITION REACHED 2\n",
      "(6, 31)\n",
      "Got here!\n",
      "best_attribute: 0\n",
      "best_threshold: 13\n",
      "set_children 1\n",
      "set_children 2\n",
      "set_children 3\n",
      "set_children 4\n",
      "set_children 5\n",
      "STOP CONDITION REACHED 3\n",
      "left_impurity: 0.0 left_data.shape: (4, 31)\n",
      "[0. 0. 0. 0.]\n",
      "right_impurity: 0.0 right_data.shape: (1, 31)\n",
      "[1.]\n",
      "(5, 31)\n",
      "attribute:  0 threshold:  13.225000000000001\n",
      "set_children 6\n",
      "Adding child_left:\n",
      "<hw2.NodeExpansion object at 0x1a19e54e10>\n",
      "Adding child_right:\n",
      "<hw2.NodeExpansion object at 0x1a19e54710>\n",
      "Got here!\n",
      "best_attribute: 1\n",
      "best_threshold: 18\n",
      "set_children 1\n",
      "set_children 2\n",
      "set_children 3\n",
      "set_children 4\n",
      "set_children 5\n",
      "STOP CONDITION REACHED 3\n",
      "left_impurity: 0.0 left_data.shape: (2, 31)\n",
      "[1. 1.]\n",
      "right_impurity: 0.0 right_data.shape: (1, 31)\n",
      "[0.]\n",
      "(3, 31)\n",
      "attribute:  1 threshold:  18.630000000000003\n",
      "set_children 6\n",
      "Adding child_left:\n",
      "<hw2.NodeExpansion object at 0x1a19e54208>\n",
      "Adding child_right:\n",
      "<hw2.NodeExpansion object at 0x1a19e544e0>\n",
      "Got here!\n",
      "best_attribute: 21\n",
      "best_threshold: 33\n",
      "set_children 1\n",
      "set_children 2\n",
      "set_children 3\n",
      "set_children 4\n",
      "set_children 5\n",
      "STOP CONDITION REACHED 3\n",
      "left_impurity: 0.1049382716049383 left_data.shape: (18, 31)\n",
      "[1. 1. 1. 1. 1. 1. 1. 1. 1. 1. 0. 1. 1. 1. 1. 1. 1. 1.]\n",
      "right_impurity: 0.0 right_data.shape: (216, 31)\n",
      "[1. 1. 1. 1. 1. 1. 1. 1. 1. 1. 1. 1. 1. 1. 1. 1. 1. 1. 1. 1. 1. 1. 1. 1.\n",
      " 1. 1. 1. 1. 1. 1. 1. 1. 1. 1. 1. 1. 1. 1. 1. 1. 1. 1. 1. 1. 1. 1. 1. 1.\n",
      " 1. 1. 1. 1. 1. 1. 1. 1. 1. 1. 1. 1. 1. 1. 1. 1. 1. 1. 1. 1. 1. 1. 1. 1.\n",
      " 1. 1. 1. 1. 1. 1. 1. 1. 1. 1. 1. 1. 1. 1. 1. 1. 1. 1. 1. 1. 1. 1. 1. 1.\n",
      " 1. 1. 1. 1. 1. 1. 1. 1. 1. 1. 1. 1. 1. 1. 1. 1. 1. 1. 1. 1. 1. 1. 1. 1.\n",
      " 1. 1. 1. 1. 1. 1. 1. 1. 1. 1. 1. 1. 1. 1. 1. 1. 1. 1. 1. 1. 1. 1. 1. 1.\n",
      " 1. 1. 1. 1. 1. 1. 1. 1. 1. 1. 1. 1. 1. 1. 1. 1. 1. 1. 1. 1. 1. 1. 1. 1.\n",
      " 1. 1. 1. 1. 1. 1. 1. 1. 1. 1. 1. 1. 1. 1. 1. 1. 1. 1. 1. 1. 1. 1. 1. 1.\n",
      " 1. 1. 1. 1. 1. 1. 1. 1. 1. 1. 1. 1. 1. 1. 1. 1. 1. 1. 1. 1. 1. 1. 1. 1.]\n",
      "(234, 31)\n",
      "attribute:  21 threshold:  33.349999999999994\n",
      "set_children 6\n",
      "Adding child_left:\n",
      "<hw2.NodeExpansion object at 0x1a19e28828>\n",
      "Adding child_right:\n",
      "<hw2.NodeExpansion object at 0x1a19e28da0>\n",
      "STOP CONDITION REACHED 2\n",
      "(15, 31)\n",
      "Got here!\n",
      "best_attribute: 0\n",
      "best_threshold: 15\n",
      "set_children 1\n",
      "set_children 2\n",
      "set_children 3\n",
      "set_children 4\n",
      "set_children 5\n",
      "STOP CONDITION REACHED 3\n",
      "left_impurity: 0.0 left_data.shape: (1, 31)\n",
      "[1.]\n",
      "right_impurity: 0.0 right_data.shape: (1, 31)\n",
      "[0.]\n",
      "(2, 31)\n",
      "attribute:  0 threshold:  15.809999999999999\n",
      "set_children 6\n",
      "Adding child_left:\n",
      "<hw2.NodeExpansion object at 0x1a19df4358>\n",
      "Adding child_right:\n",
      "<hw2.NodeExpansion object at 0x1a19df4a58>\n",
      "STOP CONDITION REACHED 2\n",
      "(4, 31)\n",
      "STOP CONDITION REACHED 1\n",
      "False\n",
      "STOP CONDITION REACHED 2\n",
      "(2, 31)\n",
      "STOP CONDITION REACHED 1\n",
      "False\n",
      "Got here!\n",
      "best_attribute: 21\n",
      "best_threshold: 33\n",
      "set_children 1\n",
      "set_children 2\n",
      "set_children 3\n",
      "set_children 4\n",
      "set_children 5\n",
      "STOP CONDITION REACHED 3\n",
      "left_impurity: 0.0 left_data.shape: (17, 31)\n",
      "[1. 1. 1. 1. 1. 1. 1. 1. 1. 1. 1. 1. 1. 1. 1. 1. 1.]\n",
      "right_impurity: 0.0 right_data.shape: (1, 31)\n",
      "[0.]\n",
      "(18, 31)\n",
      "attribute:  21 threshold:  33.56\n",
      "set_children 6\n",
      "Adding child_left:\n",
      "<hw2.NodeExpansion object at 0x1a19e543c8>\n",
      "Adding child_right:\n",
      "<hw2.NodeExpansion object at 0x1a19e544e0>\n",
      "STOP CONDITION REACHED 2\n",
      "(216, 31)\n",
      "STOP CONDITION REACHED 1\n",
      "False\n",
      "STOP CONDITION REACHED 1\n",
      "False\n",
      "STOP CONDITION REACHED 2\n",
      "(17, 31)\n",
      "STOP CONDITION REACHED 1\n",
      "False\n"
     ]
    }
   ],
   "source": [
    "# python support passing a function as arguments to another function.\n",
    "tree_gini = build_tree(data=X_train, impurity=calc_gini) \n",
    "#tree_entropy = build_tree(data=X_train, impurity=calc_entropy)"
   ]
  },
  {
   "cell_type": "markdown",
   "metadata": {},
   "source": [
    "## Tree evaluation\n",
    "\n",
    "Complete the functions `predict` and `calc_accuracy` in the python file `hw2.py`. You are allowed to implement this functionality as a class method.\n",
    "\n",
    "After building both trees using the training set (using Gini and Entropy as impurity measures), you should calculate the accuracy on the test set and print the measure that gave you the best test accuracy. For the rest of the exercise, use that impurity measure. (10 points)"
   ]
  },
  {
   "cell_type": "code",
   "execution_count": null,
   "metadata": {},
   "outputs": [],
   "source": [
    "#### Your code here ####"
   ]
  },
  {
   "cell_type": "markdown",
   "metadata": {},
   "source": [
    "## Chi square pre-pruning\n",
    "\n",
    "Consider the following p-value cut-off values: [1 (no pruning), 0.01, 0.005, 0.001, 0.0005, 0.0001, 0.00001]. For each value, construct a tree and prune it according to the cut-off value. Next, calculate the training and testing accuracy. On a single plot, draw the training and testing accuracy as a function of the p-value. What p-value gives you the best results? Does the results support the theory you learned in class regarding Chi square pruning? Explain. (20 points)\n",
    "\n",
    "**Note**: You need to change the `DecisionNode` to support Chi square pruning. Make sure the `chi_value=1` corresponds to no pruning. The values you need from the Chi square table are available in the python file `hw2.py`."
   ]
  },
  {
   "cell_type": "code",
   "execution_count": null,
   "metadata": {},
   "outputs": [],
   "source": [
    "training = []\n",
    "testing  = []\n",
    "\n",
    "#### Your code here ####\n",
    "for chi_value in [1, 0.01, 0.005, 0.001, 0.0005, 0.0001, 0.00001]:\n",
    "    pass"
   ]
  },
  {
   "cell_type": "code",
   "execution_count": null,
   "metadata": {},
   "outputs": [],
   "source": [
    "#### Your visualization here ####"
   ]
  },
  {
   "cell_type": "markdown",
   "metadata": {},
   "source": [
    "Your answer here"
   ]
  },
  {
   "cell_type": "markdown",
   "metadata": {},
   "source": [
    "## Post pruning\n",
    "\n",
    "Construct a decision tree without Chi square pruning. For each leaf in the tree, calculate the test accuracy of the tree assuming no split occurred on the parent of that leaf and find the best such parent (in the sense that not splitting on that parent results in the best testing accuracy among possible parents). Make that parent into a leaf and repeat this process until you are left with just the root. On a single plot, draw the training and testing accuracy as a function of the number of internal nodes in the tree. Explain the results: what would happen to the training and testing accuracies when you remove nodes from the tree? Can you suggest a different approach to achieve better results? (20 points)"
   ]
  },
  {
   "cell_type": "code",
   "execution_count": null,
   "metadata": {},
   "outputs": [],
   "source": [
    "#### Your code here ####"
   ]
  },
  {
   "cell_type": "markdown",
   "metadata": {},
   "source": [
    "Your answer here"
   ]
  },
  {
   "cell_type": "markdown",
   "metadata": {},
   "source": [
    "## Print the tree\n",
    "\n",
    "Complete the function `print_tree` in the python file `hw2.py` and print the tree using the chosen impurity measure and no pruning. Your code should like something like this (10 points):\n",
    "```\n",
    "[X0 <= 1],\n",
    "  [X1 <= 2]\n",
    "    [X2 <= 3], \n",
    "       leaf: [{1.0: 10}]\n",
    "       leaf: [{0.0: 10}]\n",
    "    [X4 <= 5], \n",
    "       leaf: [{1.0: 5}]\n",
    "       leaf: [{0.0: 10}]\n",
    "   leaf: [{1.0: 50}]\n",
    "```\n"
   ]
  },
  {
   "cell_type": "code",
   "execution_count": null,
   "metadata": {},
   "outputs": [],
   "source": [
    "#### Your code here ####"
   ]
  }
 ],
 "metadata": {
  "kernelspec": {
   "display_name": "Python 3",
   "language": "python",
   "name": "python3"
  },
  "language_info": {
   "codemirror_mode": {
    "name": "ipython",
    "version": 3
   },
   "file_extension": ".py",
   "mimetype": "text/x-python",
   "name": "python",
   "nbconvert_exporter": "python",
   "pygments_lexer": "ipython3",
   "version": "3.7.1"
  }
 },
 "nbformat": 4,
 "nbformat_minor": 2
}
